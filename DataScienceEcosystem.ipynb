{
 "cells": [
  {
   "cell_type": "markdown",
   "id": "9ed33bb4-47ba-44ab-b856-dc9d7ff5e0cc",
   "metadata": {},
   "source": [
    "# Data Science Tools and Ecosystem"
   ]
  },
  {
   "cell_type": "markdown",
   "id": "d7003fea-27d1-4314-ac52-7564dae1468e",
   "metadata": {},
   "source": [
    "In this notebook, Data Science Tools and Ecosystem are summarized."
   ]
  },
  {
   "cell_type": "markdown",
   "id": "5643d4e6-5057-4e7a-a7ce-1ccdb00f80f6",
   "metadata": {},
   "source": [
    "Some of the popular languages that Data Scientists use are:\n",
    "1. PYTHON\n",
    "2. R\n",
    "3. SCALA"
   ]
  },
  {
   "cell_type": "markdown",
   "id": "727964af-1198-4857-bab1-25874b471bd5",
   "metadata": {},
   "source": [
    "Some of the commonly used libraries used by Data Scientists include:\n",
    "1. PANDAS\n",
    "2. MATPLOTLIB\n",
    "3. NUMPY"
   ]
  },
  {
   "cell_type": "markdown",
   "id": "8e2a7327-c53b-41c2-97de-103b323f5a5f",
   "metadata": {},
   "source": [
    "\n",
    "| Data Science Tools|\n",
    "| -------- |\n",
    "| GITHUB  |\n",
    "| VSCODE |\n",
    "| JUPYTER NOTEBOOK   | "
   ]
  },
  {
   "cell_type": "markdown",
   "id": "e494f32c-1554-4d7e-a8cd-743145c82117",
   "metadata": {},
   "source": [
    "### Below are a few examples of evaluating arithmetic expressions in Python\n"
   ]
  },
  {
   "cell_type": "code",
   "execution_count": 2,
   "id": "d2ba2dfc-71ac-4c81-8bfc-1cde2824b33d",
   "metadata": {
    "tags": []
   },
   "outputs": [
    {
     "data": {
      "text/plain": [
       "17"
      ]
     },
     "execution_count": 2,
     "metadata": {},
     "output_type": "execute_result"
    }
   ],
   "source": [
    "#This a simple arithmetic expression to mutiply then add integers\n",
    "(3*4)+5\n"
   ]
  },
  {
   "cell_type": "code",
   "execution_count": 3,
   "id": "3df27862-9766-4ab6-8261-3865fe37c8d6",
   "metadata": {
    "tags": []
   },
   "outputs": [
    {
     "data": {
      "text/plain": [
       "3.3333333333333335"
      ]
     },
     "execution_count": 3,
     "metadata": {},
     "output_type": "execute_result"
    }
   ],
   "source": [
    "#This will convert 200 minutes to hours by diving by 60\n",
    "200/60"
   ]
  },
  {
   "cell_type": "markdown",
   "id": "ef3bf199-dda7-48cf-93b4-8802aa50a3d7",
   "metadata": {},
   "source": [
    "**Objectives:**\n",
    "- PANDAS\n",
    "- MATPLOTLIB\n",
    "- NUMPY"
   ]
  },
  {
   "cell_type": "markdown",
   "id": "e8b2e1b9-9dd1-42aa-90f4-90556c610299",
   "metadata": {},
   "source": [
    "## Author\n"
   ]
  }
 ],
 "metadata": {
  "kernelspec": {
   "display_name": "Python",
   "language": "python",
   "name": "conda-env-python-py"
  },
  "language_info": {
   "codemirror_mode": {
    "name": "ipython",
    "version": 3
   },
   "file_extension": ".py",
   "mimetype": "text/x-python",
   "name": "python",
   "nbconvert_exporter": "python",
   "pygments_lexer": "ipython3",
   "version": "3.7.12"
  }
 },
 "nbformat": 4,
 "nbformat_minor": 5
}
